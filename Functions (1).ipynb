{
  "nbformat": 4,
  "nbformat_minor": 0,
  "metadata": {
    "colab": {
      "provenance": []
    },
    "kernelspec": {
      "name": "python3",
      "display_name": "Python 3"
    },
    "language_info": {
      "name": "python"
    }
  },
  "cells": [
    {
      "cell_type": "code",
      "execution_count": null,
      "metadata": {
        "id": "d4kIKW7M_UBm"
      },
      "outputs": [],
      "source": [
        "\n",
        "\n"
      ]
    },
    {
      "cell_type": "markdown",
      "source": [],
      "metadata": {
        "id": "o1H73FD1_5Ku"
      }
    },
    {
      "cell_type": "markdown",
      "source": [
        "#Functions\n",
        "Theory Questions\n"
      ],
      "metadata": {
        "id": "r6pE2B4U_22N"
      }
    },
    {
      "cell_type": "markdown",
      "source": [
        "1. What is the difference between a function and a method in Python?\n",
        "  - A function is a reusable block of code defined using `def` that operates independently, like `print()` or `len()`.  \n",
        "\n",
        "- A method is a function that belongs to an object (usually a class instance) and is called on that object, like `list.append()` or `str.upper()`. Methods typically act on the data within the object they belong to.\n",
        "\n",
        "2. Explain the concept of function arguments and parameters in Python.\n",
        "- In Python, parameters and arguments are used in functions to pass data.\n",
        "-Parameters: Variables listed in the function definition.\n",
        "  Example:-\n",
        "  def greet(name):  # 'name' is a parameter\n",
        "    print(f\"Hello, {name}!\")\n",
        "- Arguments: Actual values passed to a function when calling it.\n",
        "Example:\n",
        "greet(\"Alice\")  # \"Alice\" is an argument\n",
        "\n",
        "3. What are the different ways to define and call a function in Python?\n",
        "1. Standard Function Definition:\n",
        "Defined using def and called by its name with parentheses.\n",
        "2. Function with Default Arguments:\n",
        "Defines parameters with default values\n",
        "3. Function with Arbitrary Arguments (*args & **kwargs):\n",
        "*args: Accepts multiple positional arguments as a tuple.\n",
        "**kwargs: Accepts multiple keyword arguments as a dictionary.\n",
        "4. Lambda (Anonymous) Function:\n",
        "A small, one-line function using lambda.\n",
        "\n",
        "4. What is the purpose of the `return` statement in a Python function?\n",
        "- The return statement in a Python function is used to send a value back to the\n",
        " caller and terminate the function's execution. It allows the function to output a result that can be stored in a variable or used in further computations.\n",
        "\n",
        "- Key Points:-\n",
        "Ends Function Execution: Once a return statement is encountered, the function stops running.\n",
        "Returns a Value: The value specified after return is sent back to the caller.\n",
        "Default Return Value: If a function does not have a return statement, it implicitly returns None.\n",
        "\n",
        "5. What are iterators in Python and how do they differ from iterables?\n",
        "-  Iterator:\n",
        "An iterator is an object that represents a stream of data. It has:\n",
        "A __next__() method that returns the next element.\n",
        "A __iter__() method that returns itself.\n",
        "-  Iterable:\n",
        "An iterable is any object that can be looped over (iterated through). It has a special method __iter__() that returns an iterator.\n",
        "\n",
        "6. Explain the concept of generators in Python and how they are defined\n",
        "- Generators in Python:-\n",
        "A generator is a special type of iterator that simplifies the process of creating iterators. Instead of implementing __iter__() and __next__(), a generator function uses the yield keyword to produce values lazily, meaning it generates values on demand without storing them in memory.\n",
        "\n",
        "-How to Define a Generator:-\n",
        "A generator is defined like a normal function but uses yield instead of return.\n",
        "\n",
        "7. What are the advantages of using generators over regular functions?\n",
        "- Generators offer several benefits, especially when dealing with large data sets or infinite sequences. Here’s why you should consider using them:\n",
        "\n",
        "1. Memory Efficiency (Lazy Evaluation):-\n",
        "Regular functions store all values in memory before returning them.\n",
        "Generators produce values one at a time, consuming minimal memory.\n",
        "2. Faster Execution:-\n",
        "Since generators don’t store all values at once, they are faster than list-based approaches.\n",
        "Each item is processed as needed rather than waiting for the entire collection to be created.\n",
        "3. Simplifies Code for Iterators:-\n",
        "Writing a generator is much easier than manually implementing an iterator using __iter__() and __next__().\n",
        "4. Infinite Sequences Are Possible:-\n",
        "Generators allow you to create infinite sequences, unlike lists which would cause memory overflow.\n",
        "\n",
        "8. What is a lambda function in Python and when is it typically used?\n",
        "- Lambda Function in Python:-\n",
        "A lambda function in Python is an anonymous, inline function defined using the lambda keyword. It can take any number of arguments but must have only a single expression.\n",
        "\n",
        "- When to Use Lambda Functions\n",
        "1. Short, Simple Functions:-\n",
        "If a function is very small and used only once, a lambda is more readable than def.\n",
        "2. Used as Arguments in Functions like map(), filter(), and sorted():-\n",
        " Instead of writing separate functions, lambda expressions keep code concise.\n",
        " Using map() (Applies function to each item in an iterable)\n",
        "\n",
        " 9. Explain the purpose and usage of the `map()` function in Python.\n",
        " - map() Function in Python:-\n",
        "  The map() function is used to apply a given function to each item in an iterable (like a list or tuple) and returns a new iterable (a map object).\n",
        "\n",
        " - Usages of map()\n",
        "  When you need to apply a function to each element of an iterable efficiently.\n",
        "  When using built-in functions like str.upper, int, or len.\n",
        "   When working with multiple iterables.\n",
        "\n",
        "10. What is the difference between `map()`, `reduce()`, and `filter()` functions in Python?\n",
        "- All three functions—map(), reduce(), and filter()—are used for functional programming in Python. They apply a function to a collection (like a list or tuple) but differ in their behavior.\n",
        "- map() – Transforming Elements\n",
        " Applies a function to each element in an iterable and returns a new iterable.\n",
        "- filter() – Selecting Elements\n",
        " Filters elements from an iterable based on a condition (True/False).\n",
        "- reduce() – Aggregating Values\n",
        " Applies a function cumulatively to reduce an iterable to a single value.\n",
        " Unlike map() and filter(), reduce() is not built-in—it must be imported from funct\n",
        "\n",
        "11. Using pen & Paper write the internal mechanism for sum operation using  reduce function on this given\n",
        "list:[47,11,42,13];\n",
        "https://drive.google.com/file/d/1qQYJN9cjp6V4vNUzJ075i4N8R3G-ULLI/view?usp=drive_link\n",
        "\n",
        "\n",
        "\n",
        "\n"
      ],
      "metadata": {
        "id": "t961HVkC54fs"
      }
    },
    {
      "cell_type": "markdown",
      "source": [
        "#  Practical Questions:"
      ],
      "metadata": {
        "id": "G0nLZzfy_6hg"
      }
    },
    {
      "cell_type": "markdown",
      "source": [
        "# 1. Write a Python function that takes a list of numbers as input and returns the sum of all even numbers in the list.\n"
      ],
      "metadata": {
        "id": "7X9u8IWV5zuf"
      }
    },
    {
      "cell_type": "code",
      "source": [
        "def sum_of_evens(numbers):\n",
        "    return sum(filter(lambda x: x % 2 == 0, numbers))\n",
        "\n",
        "\n",
        "nums = [1, 2, 3, 4, 5, 6]\n",
        "print(sum_of_evens(nums))\n"
      ],
      "metadata": {
        "colab": {
          "base_uri": "https://localhost:8080/"
        },
        "id": "NjQzuAHfc1Q4",
        "outputId": "7d40e775-39c1-4d52-9f35-14320f980321"
      },
      "execution_count": 1,
      "outputs": [
        {
          "output_type": "stream",
          "name": "stdout",
          "text": [
            "12\n"
          ]
        }
      ]
    },
    {
      "cell_type": "markdown",
      "source": [
        "# 2. Create a Python function that accepts a string and returns the reverse of that string."
      ],
      "metadata": {
        "id": "KHJz5uBudT5T"
      }
    },
    {
      "cell_type": "code",
      "source": [
        "def reverse_string(s):\n",
        "    return s[::-1]  # Uses slicing to reverse the string\n",
        "\n",
        "\n",
        "text = \"hello\"\n",
        "print(reverse_string(text))"
      ],
      "metadata": {
        "colab": {
          "base_uri": "https://localhost:8080/"
        },
        "id": "CumYG_jydcJH",
        "outputId": "f4c5207f-f1d8-427d-edd7-7cad7c850579"
      },
      "execution_count": 2,
      "outputs": [
        {
          "output_type": "stream",
          "name": "stdout",
          "text": [
            "olleh\n"
          ]
        }
      ]
    },
    {
      "cell_type": "markdown",
      "source": [
        "# 3. Implement a Python function that takes a list of integers and returns a new list containing the squares of each number"
      ],
      "metadata": {
        "id": "9VKVR9ZQdwqv"
      }
    },
    {
      "cell_type": "code",
      "source": [
        "def square_numbers(numbers):\n",
        "    return list(map(lambda x: x**2, numbers))\n",
        "\n",
        "print(square_numbers([1, 2, 3, 4, 5]))\n"
      ],
      "metadata": {
        "colab": {
          "base_uri": "https://localhost:8080/"
        },
        "id": "S7sOA5wFd6_t",
        "outputId": "c08453bd-b8c4-4b31-920c-0c47a0b73717"
      },
      "execution_count": 3,
      "outputs": [
        {
          "output_type": "stream",
          "name": "stdout",
          "text": [
            "[1, 4, 9, 16, 25]\n"
          ]
        }
      ]
    },
    {
      "cell_type": "markdown",
      "source": [
        "# 4. Write a Python function that checks if a given number is prime or not from 1 to 200"
      ],
      "metadata": {
        "id": "YzNMjk71ePYA"
      }
    },
    {
      "cell_type": "code",
      "source": [
        "def is_prime(n):\n",
        "    if n < 2:\n",
        "        return False  # 0 and 1 are not prime numbers\n",
        "    for i in range(2, int(n ** 0.5) + 1):  # Check divisibility up to sqrt(n)\n",
        "        if n % i == 0:\n",
        "            return False\n",
        "    return True\n",
        "\n",
        "\n",
        "prime_numbers = [num for num in range(1, 201) if is_prime(num)]\n",
        "print(prime_numbers)\n"
      ],
      "metadata": {
        "colab": {
          "base_uri": "https://localhost:8080/"
        },
        "id": "YAwjpsp3eUwA",
        "outputId": "3ef14377-5f40-4564-8649-fe1885dd164c"
      },
      "execution_count": 4,
      "outputs": [
        {
          "output_type": "stream",
          "name": "stdout",
          "text": [
            "[2, 3, 5, 7, 11, 13, 17, 19, 23, 29, 31, 37, 41, 43, 47, 53, 59, 61, 67, 71, 73, 79, 83, 89, 97, 101, 103, 107, 109, 113, 127, 131, 137, 139, 149, 151, 157, 163, 167, 173, 179, 181, 191, 193, 197, 199]\n"
          ]
        }
      ]
    },
    {
      "cell_type": "markdown",
      "source": [
        "# 5. Create an iterator class in Python that generates the Fibonacci sequence up to a specified number of terms."
      ],
      "metadata": {
        "id": "5WVVVNs7ekxg"
      }
    },
    {
      "cell_type": "code",
      "source": [
        "class FibonacciIterator:\n",
        "    def __init__(self, n_terms):\n",
        "        self.n_terms = n_terms  # Total terms to generate\n",
        "        self.a, self.b = 0, 1   # Initial values\n",
        "        self.count = 0          # Counter to track iterations\n",
        "\n",
        "    def __iter__(self):\n",
        "        return self  # The class itself is the iterator\n",
        "\n",
        "    def __next__(self):\n",
        "        if self.count >= self.n_terms:  # Stop iteration after n terms\n",
        "            raise StopIteration\n",
        "\n",
        "        result = self.a  # Store the current Fibonacci number\n",
        "        self.a, self.b = self.b, self.a + self.b  # Update for next term\n",
        "        self.count += 1  # Increment counter\n",
        "        return result  # Return the Fibonacci number\n",
        "\n",
        "#\n",
        "fib = FibonacciIterator(10)\n",
        "print(list(fib))\n"
      ],
      "metadata": {
        "colab": {
          "base_uri": "https://localhost:8080/"
        },
        "id": "rQYUjN8Ceuno",
        "outputId": "5385090e-e2a4-46af-af99-e484a726fd51"
      },
      "execution_count": 5,
      "outputs": [
        {
          "output_type": "stream",
          "name": "stdout",
          "text": [
            "[0, 1, 1, 2, 3, 5, 8, 13, 21, 34]\n"
          ]
        }
      ]
    },
    {
      "cell_type": "markdown",
      "source": [
        "# 6. Write a generator function in Python that yields the powers of 2 up to a given exponent."
      ],
      "metadata": {
        "id": "xeLG30fFe6Om"
      }
    },
    {
      "cell_type": "code",
      "source": [
        "def powers_of_2(max_exponent):\n",
        "    for exp in range(max_exponent + 1):\n",
        "        yield 2 ** exp\n",
        "\n",
        "\n",
        "gen = powers_of_2(5)\n",
        "print(list(gen))\n"
      ],
      "metadata": {
        "colab": {
          "base_uri": "https://localhost:8080/"
        },
        "id": "pdzYj-L9e_W8",
        "outputId": "2656c910-3f4e-4c6f-d3a1-782b7614c515"
      },
      "execution_count": 6,
      "outputs": [
        {
          "output_type": "stream",
          "name": "stdout",
          "text": [
            "[1, 2, 4, 8, 16, 32]\n"
          ]
        }
      ]
    },
    {
      "cell_type": "markdown",
      "source": [
        "# 7. Implement a generator function that reads a file line by line and yields each line as a string."
      ],
      "metadata": {
        "id": "8vZwpavmfO0L"
      }
    },
    {
      "cell_type": "code",
      "source": [
        "def read_file_line_by_line(file_path):\n",
        "    with open(file_path, 'r', encoding='utf-8') as file:\n",
        "        for line in file:\n",
        "            yield line.strip()  # Yield line without trailing newline characters\n",
        "\n",
        "# Example usage\n",
        "file_path = \"example.txt\"  # Replace with your actual file path\n",
        "for line in read_file_line_by_line(file_path):\n",
        "    print(line)\n"
      ],
      "metadata": {
        "id": "wyBdgctuf94f"
      },
      "execution_count": null,
      "outputs": []
    },
    {
      "cell_type": "markdown",
      "source": [
        "# 8. Use a lambda function in Python to sort a list of tuples based on the second element of each tuple"
      ],
      "metadata": {
        "id": "tDkltOUrf9lj"
      }
    },
    {
      "cell_type": "code",
      "source": [
        "\n",
        "data = [(\"Alice\", 25), (\"Bob\", 20), (\"Charlie\", 30)]\n",
        "\n",
        "\n",
        "sorted_data = sorted(data, key=lambda x: x[1])\n",
        "\n",
        "print(sorted_data)\n"
      ],
      "metadata": {
        "colab": {
          "base_uri": "https://localhost:8080/"
        },
        "id": "sKzOoaPagH6Z",
        "outputId": "dede5bbc-d64a-4cf7-d24e-ae5262bff6c3"
      },
      "execution_count": 9,
      "outputs": [
        {
          "output_type": "stream",
          "name": "stdout",
          "text": [
            "[('Bob', 20), ('Alice', 25), ('Charlie', 30)]\n"
          ]
        }
      ]
    },
    {
      "cell_type": "markdown",
      "source": [
        "# 9. Write a Python program that uses `map()` to convert a list of temperatures from Celsius to Fahrenheit"
      ],
      "metadata": {
        "id": "nxJPS9logTnV"
      }
    },
    {
      "cell_type": "code",
      "source": [
        "# Function to convert Celsius to Fahrenheit\n",
        "celsius_to_fahrenheit = lambda c: (c * 9/5) + 32\n",
        "\n",
        "# List of Celsius temperatures\n",
        "celsius_temperatures = [0, 10, 20, 30, 40, 100]\n",
        "\n",
        "# Convert using map()\n",
        "fahrenheit_temperatures = list(map(celsius_to_fahrenheit, celsius_temperatures))\n",
        "\n",
        "print(fahrenheit_temperatures)\n"
      ],
      "metadata": {
        "colab": {
          "base_uri": "https://localhost:8080/"
        },
        "id": "bFuUGKhdgYda",
        "outputId": "5337cc59-7d13-40c8-b3bc-0bc1c727e6eb"
      },
      "execution_count": 10,
      "outputs": [
        {
          "output_type": "stream",
          "name": "stdout",
          "text": [
            "[32.0, 50.0, 68.0, 86.0, 104.0, 212.0]\n"
          ]
        }
      ]
    },
    {
      "cell_type": "markdown",
      "source": [
        "# 10. Create a Python program that uses `filter()` to remove all the vowels from a given string."
      ],
      "metadata": {
        "id": "PcVzmn4UgnEo"
      }
    },
    {
      "cell_type": "code",
      "source": [
        "def remove_vowels(text):\n",
        "    vowels = \"aeiouAEIOU\"\n",
        "    return \"\".join(filter(lambda char: char not in vowels, text))\n",
        "\n",
        "input_text = \"Hello, World!\"\n",
        "output_text = remove_vowels(input_text)\n",
        "\n",
        "print(output_text)\n"
      ],
      "metadata": {
        "colab": {
          "base_uri": "https://localhost:8080/"
        },
        "id": "RFX-K4mwgojF",
        "outputId": "eb7c49f4-b1ca-46ff-dc8c-1e3ff2831eb4"
      },
      "execution_count": 11,
      "outputs": [
        {
          "output_type": "stream",
          "name": "stdout",
          "text": [
            "Hll, Wrld!\n"
          ]
        }
      ]
    },
    {
      "cell_type": "markdown",
      "source": [
        "# 11) Imagine an accounting routine used in a book shop. It works on a list with sublists, which look like this:\n",
        "\n",
        "Write a Python program, which returns a list with 2-tuples. Each tuple consists of the order number and the\n",
        "product of the price per item and the quantity. The product should be increased by 10,- € if the value of the\n",
        "order is smaller than 100,00 €."
      ],
      "metadata": {
        "id": "0UsPH-Cng1fX"
      }
    },
    {
      "cell_type": "code",
      "source": [
        "def calculate_order_total(orders):\n",
        "    result = []\n",
        "    for order in orders:\n",
        "        order_number, price_per_item, quantity = order\n",
        "        total = price_per_item * quantity\n",
        "        if total < 100:\n",
        "            total += 10  # Add 10€ if the total is less than 100€\n",
        "        result.append((order_number, total))\n",
        "    return result\n",
        "\n",
        "# Example order list: [order_number, price_per_item, quantity]\n",
        "orders = [\n",
        "    [34587, 40.95, 4],\n",
        "    [98762, 56.80, 5],\n",
        "    [77226, 32.95, 3],\n",
        "    [88112, 24.99, 3],\n",
        "]\n",
        "\n",
        "\n",
        "order_totals = calculate_order_total(orders)\n",
        "print(order_totals)\n"
      ],
      "metadata": {
        "colab": {
          "base_uri": "https://localhost:8080/"
        },
        "id": "6t4XYidmhKoP",
        "outputId": "6029f196-fa39-4877-89cc-0006b635de54"
      },
      "execution_count": 13,
      "outputs": [
        {
          "output_type": "stream",
          "name": "stdout",
          "text": [
            "[(34587, 163.8), (98762, 284.0), (77226, 108.85000000000001), (88112, 84.97)]\n"
          ]
        }
      ]
    }
  ]
}